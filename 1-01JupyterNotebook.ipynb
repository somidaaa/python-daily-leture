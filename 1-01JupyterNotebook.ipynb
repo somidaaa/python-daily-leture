{
 "cells": [
  {
   "cell_type": "markdown",
   "id": "fbeb42a3-60d2-4de2-9c1d-c5ae59efe2a5",
   "metadata": {
    "slideshow": {
     "slide_type": "slide"
    }
   },
   "source": [
    "# Jupyter Notebook\n",
    "\n",
    "<img src=\"https://jupyter.org/assets/logos/rectanglelogo-greytext-orangebody-greymoons.svg\" width=\"200\" />\n",
    "\n",
    "> 수정 2022.05"
   ]
  },
  {
   "cell_type": "markdown",
   "id": "232e94dd-6b56-4d41-a068-4b0f45179f45",
   "metadata": {},
   "source": [
    "에디트모드/명령모드 --> run 실행"
   ]
  },
  {
   "cell_type": "code",
   "execution_count": null,
   "id": "a145a6c5-c113-479e-a8f5-4387d04ab324",
   "metadata": {},
   "outputs": [],
   "source": []
  },
  {
   "cell_type": "markdown",
   "id": "3e44635b-0c54-4c92-a9bb-6d84831925b7",
   "metadata": {
    "slideshow": {
     "slide_type": "slide"
    }
   },
   "source": [
    "브라우저 기반 인터랙티브 파이썬 환경\n",
    "* 인터랙티브 파이썬 코딩\n",
    "* 매직 명령어\n",
    "* 시스템 쉘\n",
    "* 마크다운 문법\n",
    "* 수학식 표현 (Latex)\n",
    "* 슬라이드, HTML, PDF\n",
    "* 대규모 병렬 컴퓨팅 (IPython.parallel)"
   ]
  },
  {
   "cell_type": "markdown",
   "id": "15ca0516-5834-48c9-ba83-756cafdc5163",
   "metadata": {},
   "source": [
    "### iPython 동작\n",
    "\n",
    "<img src='https://ipython.org/ipython-doc/3/_images/notebook_components.png' width='500'>\n",
    "- https://ipython.org/ipython-doc/3/development/how_ipython_works.html\n",
    "\n",
    "\n"
   ]
  },
  {
   "attachments": {
    "0027e823-85e1-4698-a8ac-08bfe7a604ea.png": {
     "image/png": "[encoded data removed]"
    }
   },
   "cell_type": "markdown",
   "id": "2a3b8fe1-5d44-409f-8a3b-3af8ba2924c5",
   "metadata": {},
   "source": [
    "### Kernel\n",
    "\n",
    "커널은 노트북 문서의 코드를 실행할 수 있는 엔진이다.\n",
    "\n",
    "- Kernel 이란: https://jupyter-notebook-beginner-guide.readthedocs.io/en/latest/what_is_jupyter.html#kernel\n",
    "- Major Kernels: https://docs.jupyter.org/en/latest/#kernels\n",
    "\n",
    "쥬피터 노트북 ( 혹은 랩) 에서 노트북 문서 실행시 선택할 수 있다.\n",
    "\n",
    "![image.png](attachment:0027e823-85e1-4698-a8ac-08bfe7a604ea.png)"
   ]
  },
  {
   "cell_type": "markdown",
   "id": "e0240615-2f32-4e43-aee7-a29315e08b59",
   "metadata": {},
   "source": [
    "#### XPython (Xesus Kernel)\n",
    "\n",
    "Jupyter Kernel 프로토콜 xesus 의 네이티브 구현한 노트북 커널이다.\n",
    " - https://github.com/jupyter-xeus/xeus-python"
   ]
  },
  {
   "cell_type": "markdown",
   "id": "6758c974-fb58-4adb-964d-cbd30e8c756f",
   "metadata": {
    "slideshow": {
     "slide_type": "slide"
    }
   },
   "source": [
    "# 특징\n",
    "\n",
    "* 웹기반의 대화적\n",
    "* 노트 정리하듯 정리, 손쉽게 공유\n",
    "* 개발, 문서화 환경\n",
    "* **매우 혁신적인 도구**\n",
    "* 웹 응용프로그램과 문서를 결합한 형태\n",
    "* 실행 코드, 설명 텍스트, 수학식, 미디어도 문서에 포함"
   ]
  },
  {
   "cell_type": "markdown",
   "id": "a9d961a8-b4c3-4c0c-8aab-9e91fc3183fb",
   "metadata": {
    "slideshow": {
     "slide_type": "slide"
    }
   },
   "source": [
    "# 코드 작성\n",
    "\n",
    "* 코드 편집, 자동구문강조 syntax hilighting, 자동 들여쓰기, 탭 완성\n",
    "* 실행결과를 브라우저내 inline 에 표시\n",
    "* HTML, LaTex 수학식, PNG, SVG 등 표현, matplotlib을 중간 삽입\n",
    "* Markdowm 편집하여 간단한 서식있는 문서를 작성\n",
    "* 수학적 표기법을 포함하고, 표현 Mathjax"
   ]
  },
  {
   "cell_type": "markdown",
   "id": "bd6ee474-92c1-4a43-ba12-fd2a0e5791d4",
   "metadata": {
    "slideshow": {
     "slide_type": "slide"
    }
   },
   "source": [
    "# 시작과 종료\n",
    "\n",
    "시작 (로컬 혹은 서버로 실행)\n",
    "\n",
    "쥬피터 노트북\n",
    "\n",
    "```bash\n",
    "# 서버로 실행\n",
    "$ jupyter notebook --ip=0.0.0.0 --port=8080\n",
    "```"
   ]
  },
  {
   "cell_type": "markdown",
   "id": "05b3aca5-2a79-45e1-ab0f-636cb39245d3",
   "metadata": {
    "slideshow": {
     "slide_type": "slide"
    }
   },
   "source": [
    "쥬피터 랩\n",
    "\n",
    "```bash\n",
    "$ jupyter-lab --no-browser --port=8080 DIR\n",
    "```\n",
    "\n",
    "\n",
    "종료는 Ctrl+C"
   ]
  },
  {
   "cell_type": "markdown",
   "id": "35a1025d-12c3-49f5-af86-a539220ea620",
   "metadata": {},
   "source": [
    "# 셀 이란\n",
    "\n",
    "코드 / 텍스트를 입력하는 기능\n",
    "\n",
    "1. 코드 셀\n",
    "2. 마크다운 셀"
   ]
  },
  {
   "cell_type": "markdown",
   "id": "94f08c2a-fb82-4b09-a43e-c3ae95bfbf81",
   "metadata": {
    "slideshow": {
     "slide_type": "slide"
    }
   },
   "source": [
    "# 명령모드와 편집모드\n",
    "\n",
    "Jupyter Notebook 키보드 입력에는 두 가지 모드가 있다. vi 에디터의 명령/편집 모드를 사용한다.\n",
    "* 명령모드(Command mode): 노트북의 셀을 편집 (파란색+회색 테두리) \n",
    "* 편집모드(Edit mode): 셀에 있는 텍스트나 코드를 편집 (녹색 테두리)\n",
    "\n",
    "\n",
    "모드 전환\n",
    "* Esc키를 누르면 명령모드로, Enter를 누르면 편집모드로 상호전환\n",
    "* 명령 모드에서 j,k 키로 아래/위로 이동 (vi 에디터)\n",
    "* 도움말 표시: 명령 모드에서 h 키"
   ]
  },
  {
   "cell_type": "markdown",
   "id": "a5ca95f1-2411-413a-93c3-85fde66d3c2d",
   "metadata": {
    "slideshow": {
     "slide_type": "slide"
    }
   },
   "source": [
    "# 실행과 저장(명령모드, 편집모드 공통)\n",
    "자주 사용되는 키보드를 확인하고 익혀두자\n",
    "\n",
    "* Ctrl-Enter 현재 셀 실행 \n",
    "* Shift-Enter 셀 실행 + 아래로 이동 \n",
    "* Ctrl-s: 노트북 저장 "
   ]
  },
  {
   "cell_type": "markdown",
   "id": "47a8c273-2c97-4440-b0a7-4a5124270cc6",
   "metadata": {
    "slideshow": {
     "slide_type": "slide"
    }
   },
   "source": [
    "# 명령모드(Esc를 눌러 활성화)\n",
    "자주 사용되는 키보드를 확인하고 익혀두자\n",
    "\n",
    "* Enter 편집 모드 \n",
    "* y: 코드로 전환 \n",
    "* m: 마크다운으로 전환 \n",
    "* ↑, k : 위로, \n",
    "* ↓, j : 아래로 \n",
    "* Ctrl-k: 셀을 위로 이동 \n",
    "* Ctrl-j: 셀을 아래로 이동 \n",
    "* a: 위에 셀 추가 (b는 아래에 셀 추가)\n",
    "* c: 셀 복사 \n",
    "* v: 아래에 셀 붙여넣기 \n",
    "* Shift-m: 셀 아래 병합 \n",
    "* h: 키보드 바로가기 도움말 "
   ]
  },
  {
   "cell_type": "code",
   "execution_count": null,
   "id": "71b3bb51-1e64-465b-9b7b-08c267e381ad",
   "metadata": {},
   "outputs": [
    {
     "data": {
      "text/plain": [
       "2"
      ]
     },
     "execution_count": 2,
     "metadata": {},
     "output_type": "execute_result"
    }
   ],
   "source": [
    "1+1"
   ]
  },
  {
   "cell_type": "markdown",
   "id": "6b2e3429-0358-4959-8648-db95df48b9ad",
   "metadata": {
    "slideshow": {
     "slide_type": "slide"
    }
   },
   "source": [
    "# 편집모드(Enter를 눌러 활성화)\n",
    "자주 사용되는 키보드를 확인하고 익혀두자\n",
    "\n",
    "* Esc: 명령모드 \n",
    "* Ctrl-Shift--: 셀 분할 \n",
    "* Ctrl-Left: 단어 단위 왼쪽으로 \n",
    "* Ctrl-Right: 단어 단위 오른쪽으로 "
   ]
  },
  {
   "cell_type": "markdown",
   "id": "c4f24356-06ef-4998-bdac-035638c234f9",
   "metadata": {},
   "source": [
    "## **2 Cell 편집하기**\n",
    "\n",
    "### **01 셀 내부 선택 / 셀 외부 선택**"
   ]
  },
  {
   "cell_type": "code",
   "execution_count": 7,
   "id": "a4a8c0fd-7b6c-4fe8-9b94-c938912b87df",
   "metadata": {},
   "outputs": [],
   "source": [
    "# Enter : 셀 내부로 들어가기"
   ]
  },
  {
   "cell_type": "code",
   "execution_count": 8,
   "id": "fd9ba73e-c8a2-4cb8-81f9-26762f14659c",
   "metadata": {},
   "outputs": [],
   "source": [
    "# ESC : 셀 외부로 빠져나가기"
   ]
  },
  {
   "cell_type": "markdown",
   "id": "ae17bea9-08ab-41a8-8f44-72851fd2a0ed",
   "metadata": {},
   "source": [
    "### **02 셀 분리**\n",
    "Ctrl + Shift + '-'"
   ]
  },
  {
   "cell_type": "code",
   "execution_count": 9,
   "id": "656b7bc8-b190-48e0-a1fc-17e4d9c14031",
   "metadata": {},
   "outputs": [],
   "source": [
    "# 셀 내부에서 작업하다가\n",
    "# 일정 부분에서\n",
    "# Ctrl + Shift + '-'"
   ]
  },
  {
   "cell_type": "markdown",
   "id": "d407ebb2-a2c0-405a-8fe5-521d08cf8252",
   "metadata": {},
   "source": [
    "### **02 셀 병합**\n",
    "Shift + 'm'"
   ]
  },
  {
   "cell_type": "code",
   "execution_count": 10,
   "id": "ddacb2ef-3fb2-41b1-9ab9-f4e06d86ce1c",
   "metadata": {},
   "outputs": [],
   "source": [
    "# 셀 아웃한 뒤 \n",
    "# Shift + 'm' \n",
    "# 실수로 'm' 을 누르면 셀의 속성이 Mark Down 으로 바뀐다"
   ]
  },
  {
   "cell_type": "markdown",
   "id": "6f0fe668-7ffd-4af0-a1a7-7c278ae60349",
   "metadata": {},
   "source": [
    "## **3 Cell 속성 바꾸기**\n",
    "Code / Mark Down"
   ]
  },
  {
   "cell_type": "code",
   "execution_count": 11,
   "id": "eef1c362-574f-4252-a625-9bfcc510c19c",
   "metadata": {},
   "outputs": [],
   "source": [
    "# ESC 로 셀 외부로 빠진 뒤\n",
    "# 'Y' : Code 속성으로 변경\n",
    "# 'M' : MarkDown 속성으로 변경"
   ]
  },
  {
   "cell_type": "markdown",
   "id": "b69a3851-546e-4d3a-8e3f-95a9bf4c8020",
   "metadata": {},
   "source": [
    "\n",
    "## **4 Cell 객체 편집하기**\n",
    "Code / Mark Down"
   ]
  },
  {
   "cell_type": "code",
   "execution_count": 12,
   "id": "d0bc3a46-fdc5-4936-aeec-3b30b48913f5",
   "metadata": {},
   "outputs": [],
   "source": [
    "# ESC\n",
    "# \"D\" \"D\"  Delete Cell"
   ]
  },
  {
   "cell_type": "code",
   "execution_count": 13,
   "id": "1a19b4af-3417-4b02-a0aa-7a04f3e8ad86",
   "metadata": {},
   "outputs": [],
   "source": [
    "# ESC\n",
    "# \"B\" 빈쎌 삽입하기"
   ]
  },
  {
   "cell_type": "markdown",
   "id": "eef8ec3e-24c5-4f20-9f88-bf0f8c61dba1",
   "metadata": {},
   "source": [
    "<br><br>\n",
    "## **5 ipython 단축키**\n",
    "http://bigbigdata.tistory.com/65"
   ]
  },
  {
   "cell_type": "markdown",
   "id": "5cc129e2-9d19-419f-8e10-4a55c120e7c7",
   "metadata": {},
   "source": [
    "# Object Information"
   ]
  },
  {
   "cell_type": "markdown",
   "id": "4ad6b89c-c55d-4aae-a229-ed9f8bc44624",
   "metadata": {},
   "source": [
    "### **01. 객체 정보 확인** <small> shift + TAB </small>\n",
    "변수를 키인하고 **shift + TAB** 누르면 내부 특성이 조회됨"
   ]
  },
  {
   "cell_type": "code",
   "execution_count": 4,
   "id": "41ae7a49-09fb-4d36-ae34-982323f01e4f",
   "metadata": {},
   "outputs": [],
   "source": [
    "a = 10"
   ]
  },
  {
   "cell_type": "code",
   "execution_count": 5,
   "id": "aa885729-8565-47cd-b8ba-dbb341884337",
   "metadata": {},
   "outputs": [
    {
     "data": {
      "text/plain": [
       "10"
      ]
     },
     "execution_count": 5,
     "metadata": {},
     "output_type": "execute_result"
    }
   ],
   "source": [
    "a"
   ]
  },
  {
   "cell_type": "code",
   "execution_count": 6,
   "id": "2a588929-b4ae-4a2d-9cc6-9b3d1b5c5ad7",
   "metadata": {
    "collapsed": true,
    "jupyter": {
     "outputs_hidden": true
    },
    "tags": []
   },
   "outputs": [
    {
     "name": "stdout",
     "output_type": "stream",
     "text": [
      "Help on int object:\n",
      "\n",
      "class int(object)\n",
      " |  int([x]) -> integer\n",
      " |  int(x, base=10) -> integer\n",
      " |  \n",
      " |  Convert a number or string to an integer, or return 0 if no arguments\n",
      " |  are given.  If x is a number, return x.__int__().  For floating point\n",
      " |  numbers, this truncates towards zero.\n",
      " |  \n",
      " |  If x is not a number or if base is given, then x must be a string,\n",
      " |  bytes, or bytearray instance representing an integer literal in the\n",
      " |  given base.  The literal can be preceded by '+' or '-' and be surrounded\n",
      " |  by whitespace.  The base defaults to 10.  Valid bases are 0 and 2-36.\n",
      " |  Base 0 means to interpret the base from the string as an integer literal.\n",
      " |  >>> int('0b100', base=0)\n",
      " |  4\n",
      " |  \n",
      " |  Built-in subclasses:\n",
      " |      bool\n",
      " |  \n",
      " |  Methods defined here:\n",
      " |  \n",
      " |  __abs__(self, /)\n",
      " |      abs(self)\n",
      " |  \n",
      " |  __add__(self, value, /)\n",
      " |      Return self+value.\n",
      " |  \n",
      " |  __and__(self, value, /)\n",
      " |      Return self&value.\n",
      " |  \n",
      " |  __bool__(self, /)\n",
      " |      True if self else False\n",
      " |  \n",
      " |  __ceil__(...)\n",
      " |      Ceiling of an Integral returns itself.\n",
      " |  \n",
      " |  __divmod__(self, value, /)\n",
      " |      Return divmod(self, value).\n",
      " |  \n",
      " |  __eq__(self, value, /)\n",
      " |      Return self==value.\n",
      " |  \n",
      " |  __float__(self, /)\n",
      " |      float(self)\n",
      " |  \n",
      " |  __floor__(...)\n",
      " |      Flooring an Integral returns itself.\n",
      " |  \n",
      " |  __floordiv__(self, value, /)\n",
      " |      Return self//value.\n",
      " |  \n",
      " |  __format__(self, format_spec, /)\n",
      " |      Default object formatter.\n",
      " |  \n",
      " |  __ge__(self, value, /)\n",
      " |      Return self>=value.\n",
      " |  \n",
      " |  __getattribute__(self, name, /)\n",
      " |      Return getattr(self, name).\n",
      " |  \n",
      " |  __getnewargs__(self, /)\n",
      " |  \n",
      " |  __gt__(self, value, /)\n",
      " |      Return self>value.\n",
      " |  \n",
      " |  __hash__(self, /)\n",
      " |      Return hash(self).\n",
      " |  \n",
      " |  __index__(self, /)\n",
      " |      Return self converted to an integer, if self is suitable for use as an index into a list.\n",
      " |  \n",
      " |  __int__(self, /)\n",
      " |      int(self)\n",
      " |  \n",
      " |  __invert__(self, /)\n",
      " |      ~self\n",
      " |  \n",
      " |  __le__(self, value, /)\n",
      " |      Return self<=value.\n",
      " |  \n",
      " |  __lshift__(self, value, /)\n",
      " |      Return self<<value.\n",
      " |  \n",
      " |  __lt__(self, value, /)\n",
      " |      Return self<value.\n",
      " |  \n",
      " |  __mod__(self, value, /)\n",
      " |      Return self%value.\n",
      " |  \n",
      " |  __mul__(self, value, /)\n",
      " |      Return self*value.\n",
      " |  \n",
      " |  __ne__(self, value, /)\n",
      " |      Return self!=value.\n",
      " |  \n",
      " |  __neg__(self, /)\n",
      " |      -self\n",
      " |  \n",
      " |  __or__(self, value, /)\n",
      " |      Return self|value.\n",
      " |  \n",
      " |  __pos__(self, /)\n",
      " |      +self\n",
      " |  \n",
      " |  __pow__(self, value, mod=None, /)\n",
      " |      Return pow(self, value, mod).\n",
      " |  \n",
      " |  __radd__(self, value, /)\n",
      " |      Return value+self.\n",
      " |  \n",
      " |  __rand__(self, value, /)\n",
      " |      Return value&self.\n",
      " |  \n",
      " |  __rdivmod__(self, value, /)\n",
      " |      Return divmod(value, self).\n",
      " |  \n",
      " |  __repr__(self, /)\n",
      " |      Return repr(self).\n",
      " |  \n",
      " |  __rfloordiv__(self, value, /)\n",
      " |      Return value//self.\n",
      " |  \n",
      " |  __rlshift__(self, value, /)\n",
      " |      Return value<<self.\n",
      " |  \n",
      " |  __rmod__(self, value, /)\n",
      " |      Return value%self.\n",
      " |  \n",
      " |  __rmul__(self, value, /)\n",
      " |      Return value*self.\n",
      " |  \n",
      " |  __ror__(self, value, /)\n",
      " |      Return value|self.\n",
      " |  \n",
      " |  __round__(...)\n",
      " |      Rounding an Integral returns itself.\n",
      " |      \n",
      " |      Rounding with an ndigits argument also returns an integer.\n",
      " |  \n",
      " |  __rpow__(self, value, mod=None, /)\n",
      " |      Return pow(value, self, mod).\n",
      " |  \n",
      " |  __rrshift__(self, value, /)\n",
      " |      Return value>>self.\n",
      " |  \n",
      " |  __rshift__(self, value, /)\n",
      " |      Return self>>value.\n",
      " |  \n",
      " |  __rsub__(self, value, /)\n",
      " |      Return value-self.\n",
      " |  \n",
      " |  __rtruediv__(self, value, /)\n",
      " |      Return value/self.\n",
      " |  \n",
      " |  __rxor__(self, value, /)\n",
      " |      Return value^self.\n",
      " |  \n",
      " |  __sizeof__(self, /)\n",
      " |      Returns size in memory, in bytes.\n",
      " |  \n",
      " |  __sub__(self, value, /)\n",
      " |      Return self-value.\n",
      " |  \n",
      " |  __truediv__(self, value, /)\n",
      " |      Return self/value.\n",
      " |  \n",
      " |  __trunc__(...)\n",
      " |      Truncating an Integral returns itself.\n",
      " |  \n",
      " |  __xor__(self, value, /)\n",
      " |      Return self^value.\n",
      " |  \n",
      " |  as_integer_ratio(self, /)\n",
      " |      Return integer ratio.\n",
      " |      \n",
      " |      Return a pair of integers, whose ratio is exactly equal to the original int\n",
      " |      and with a positive denominator.\n",
      " |      \n",
      " |      >>> (10).as_integer_ratio()\n",
      " |      (10, 1)\n",
      " |      >>> (-10).as_integer_ratio()\n",
      " |      (-10, 1)\n",
      " |      >>> (0).as_integer_ratio()\n",
      " |      (0, 1)\n",
      " |  \n",
      " |  bit_count(self, /)\n",
      " |      Number of ones in the binary representation of the absolute value of self.\n",
      " |      \n",
      " |      Also known as the population count.\n",
      " |      \n",
      " |      >>> bin(13)\n",
      " |      '0b1101'\n",
      " |      >>> (13).bit_count()\n",
      " |      3\n",
      " |  \n",
      " |  bit_length(self, /)\n",
      " |      Number of bits necessary to represent self in binary.\n",
      " |      \n",
      " |      >>> bin(37)\n",
      " |      '0b100101'\n",
      " |      >>> (37).bit_length()\n",
      " |      6\n",
      " |  \n",
      " |  conjugate(...)\n",
      " |      Returns self, the complex conjugate of any int.\n",
      " |  \n",
      " |  to_bytes(self, /, length, byteorder, *, signed=False)\n",
      " |      Return an array of bytes representing an integer.\n",
      " |      \n",
      " |      length\n",
      " |        Length of bytes object to use.  An OverflowError is raised if the\n",
      " |        integer is not representable with the given number of bytes.\n",
      " |      byteorder\n",
      " |        The byte order used to represent the integer.  If byteorder is 'big',\n",
      " |        the most significant byte is at the beginning of the byte array.  If\n",
      " |        byteorder is 'little', the most significant byte is at the end of the\n",
      " |        byte array.  To request the native byte order of the host system, use\n",
      " |        `sys.byteorder' as the byte order value.\n",
      " |      signed\n",
      " |        Determines whether two's complement is used to represent the integer.\n",
      " |        If signed is False and a negative integer is given, an OverflowError\n",
      " |        is raised.\n",
      " |  \n",
      " |  ----------------------------------------------------------------------\n",
      " |  Class methods defined here:\n",
      " |  \n",
      " |  from_bytes(bytes, byteorder, *, signed=False) from builtins.type\n",
      " |      Return the integer represented by the given array of bytes.\n",
      " |      \n",
      " |      bytes\n",
      " |        Holds the array of bytes to convert.  The argument must either\n",
      " |        support the buffer protocol or be an iterable object producing bytes.\n",
      " |        Bytes and bytearray are examples of built-in objects that support the\n",
      " |        buffer protocol.\n",
      " |      byteorder\n",
      " |        The byte order used to represent the integer.  If byteorder is 'big',\n",
      " |        the most significant byte is at the beginning of the byte array.  If\n",
      " |        byteorder is 'little', the most significant byte is at the end of the\n",
      " |        byte array.  To request the native byte order of the host system, use\n",
      " |        `sys.byteorder' as the byte order value.\n",
      " |      signed\n",
      " |        Indicates whether two's complement is used to represent the integer.\n",
      " |  \n",
      " |  ----------------------------------------------------------------------\n",
      " |  Static methods defined here:\n",
      " |  \n",
      " |  __new__(*args, **kwargs) from builtins.type\n",
      " |      Create and return a new object.  See help(type) for accurate signature.\n",
      " |  \n",
      " |  ----------------------------------------------------------------------\n",
      " |  Data descriptors defined here:\n",
      " |  \n",
      " |  denominator\n",
      " |      the denominator of a rational number in lowest terms\n",
      " |  \n",
      " |  imag\n",
      " |      the imaginary part of a complex number\n",
      " |  \n",
      " |  numerator\n",
      " |      the numerator of a rational number in lowest terms\n",
      " |  \n",
      " |  real\n",
      " |      the real part of a complex number\n",
      "\n"
     ]
    }
   ],
   "source": [
    "help(a)"
   ]
  },
  {
   "cell_type": "markdown",
   "id": "8e818d0c-9c90-4d45-86f4-fd0920f219da",
   "metadata": {},
   "source": [
    "### **02 함수정보 확인** <small> shift + TAB </small>\n",
    "함수를 키인하고 **shift + TAB** 누르면 내부 특성이 조회됨"
   ]
  },
  {
   "cell_type": "code",
   "execution_count": 3,
   "id": "6d4481d1-8a5e-4a43-9af3-98052e5c9f69",
   "metadata": {},
   "outputs": [
    {
     "data": {
      "text/plain": [
       "5"
      ]
     },
     "execution_count": 3,
     "metadata": {},
     "output_type": "execute_result"
    }
   ],
   "source": [
    "def sum(a,b):\n",
    "    return a + b\n",
    "\n",
    "sum(1, 4)"
   ]
  },
  {
   "cell_type": "code",
   "execution_count": null,
   "id": "800b39ff-1039-4fbf-8d66-4e480417d176",
   "metadata": {},
   "outputs": [],
   "source": [
    "sum"
   ]
  },
  {
   "cell_type": "markdown",
   "id": "ce6d6e6c-0c9a-4bf1-a1f4-6770636cd444",
   "metadata": {},
   "source": [
    "docstrings 확인"
   ]
  },
  {
   "cell_type": "code",
   "execution_count": 22,
   "id": "c461127b-79e1-4c70-970f-a8e21f9ef4e8",
   "metadata": {},
   "outputs": [],
   "source": [
    "def sum(a,b):\n",
    "    \"\"\"sum()는 두 수를 더한 결과를 반환한다.\n",
    "\n",
    "    Pameters:\n",
    "        a: int\n",
    "        b: int\n",
    "    Return:\n",
    "        int\n",
    "    \"\"\"\n",
    "    \n",
    "        \n",
    "    return a + b"
   ]
  },
  {
   "cell_type": "code",
   "execution_count": 15,
   "id": "e5767bf7-4fac-4813-bd77-70aa23357f42",
   "metadata": {},
   "outputs": [
    {
     "data": {
      "text/plain": [
       "<function __main__.sum(a, b)>"
      ]
     },
     "execution_count": 15,
     "metadata": {},
     "output_type": "execute_result"
    }
   ],
   "source": [
    "sum"
   ]
  },
  {
   "cell_type": "markdown",
   "id": "d477553d-fd98-4436-9ea3-0f74ee0908ce",
   "metadata": {},
   "source": [
    "### **03 객체/ 함수정보 확인** <small> shift + TAB </small>\n",
    "**?** by Codes"
   ]
  },
  {
   "cell_type": "code",
   "execution_count": 13,
   "id": "121c0957-f626-47c6-956e-0b5850c46d54",
   "metadata": {},
   "outputs": [
    {
     "ename": "SyntaxError",
     "evalue": "invalid syntax (930738565.py, line 1)",
     "output_type": "error",
     "traceback": [
      "\u001b[1;36m  Cell \u001b[1;32mIn[13], line 1\u001b[1;36m\u001b[0m\n\u001b[1;33m    a?? #코드의 소스를 보여줌\u001b[0m\n\u001b[1;37m     ^\u001b[0m\n\u001b[1;31mSyntaxError\u001b[0m\u001b[1;31m:\u001b[0m invalid syntax\n"
     ]
    }
   ],
   "source": [
    "a?? #코드의 소스를 보여줌"
   ]
  },
  {
   "cell_type": "code",
   "execution_count": 4,
   "id": "2c6019ea-63e1-4127-8e54-09e94389d683",
   "metadata": {},
   "outputs": [],
   "source": [
    "a?"
   ]
  },
  {
   "cell_type": "code",
   "execution_count": 5,
   "id": "58a76eb9-4e54-44b6-bd69-0b54289c78be",
   "metadata": {},
   "outputs": [],
   "source": [
    "sum?"
   ]
  },
  {
   "cell_type": "code",
   "execution_count": 6,
   "id": "d4f2f0e2-ab90-493d-a7f4-e113e88b2569",
   "metadata": {},
   "outputs": [],
   "source": [
    "# sum()?"
   ]
  },
  {
   "cell_type": "code",
   "execution_count": null,
   "id": "77b7d38d-db3a-4f46-8bbc-4b8c88edca1a",
   "metadata": {},
   "outputs": [],
   "source": [
    "import numpy as np"
   ]
  },
  {
   "cell_type": "code",
   "execution_count": null,
   "id": "2b318b04-fd0d-4ae7-a835-5ed2f444be72",
   "metadata": {},
   "outputs": [],
   "source": [
    "np.exp"
   ]
  },
  {
   "cell_type": "code",
   "execution_count": null,
   "id": "1d9aeb67-7300-4290-9c8a-c83e6622bf60",
   "metadata": {
    "tags": []
   },
   "outputs": [],
   "source": [
    "help(np.exp)   # docstrings"
   ]
  },
  {
   "cell_type": "markdown",
   "id": "25750862-8e8f-4a16-944a-d6112a3602b1",
   "metadata": {},
   "source": [
    "### 노트북 도움말 `?` 이용"
   ]
  },
  {
   "cell_type": "code",
   "execution_count": null,
   "id": "9642506b-e53a-4872-aa56-da980a9111a9",
   "metadata": {},
   "outputs": [],
   "source": [
    "add?"
   ]
  },
  {
   "cell_type": "code",
   "execution_count": null,
   "id": "1d02528e-c90f-4825-94b0-1c97bc074f18",
   "metadata": {},
   "outputs": [],
   "source": [
    "add??"
   ]
  },
  {
   "cell_type": "markdown",
   "id": "242e8619-9e49-4d7a-af88-34a87e6e182b",
   "metadata": {},
   "source": [
    "### 노트북 도움말 : **Shift + TAB**\n"
   ]
  },
  {
   "cell_type": "code",
   "execution_count": null,
   "id": "6a096922-3704-4827-a8d2-c27a2dd50fff",
   "metadata": {},
   "outputs": [],
   "source": [
    "add    # Shift+tab"
   ]
  },
  {
   "cell_type": "markdown",
   "id": "23a25057-a626-4c41-9d44-f01b06826da0",
   "metadata": {},
   "source": [
    "# 매직커맨드"
   ]
  },
  {
   "cell_type": "code",
   "execution_count": 16,
   "id": "62d7e7c3-7663-4b6d-a14b-ee7da3ef0022",
   "metadata": {
    "tags": []
   },
   "outputs": [
    {
     "data": {
      "application/json": {
       "cell": {
        "!": "OSMagics",
        "HTML": "Other",
        "SVG": "Other",
        "bash": "Other",
        "capture": "ExecutionMagics",
        "cmd": "Other",
        "debug": "ExecutionMagics",
        "file": "Other",
        "html": "DisplayMagics",
        "javascript": "DisplayMagics",
        "js": "DisplayMagics",
        "latex": "DisplayMagics",
        "markdown": "DisplayMagics",
        "perl": "Other",
        "prun": "ExecutionMagics",
        "pypy": "Other",
        "python": "Other",
        "python2": "Other",
        "python3": "Other",
        "ruby": "Other",
        "script": "ScriptMagics",
        "sh": "Other",
        "svg": "DisplayMagics",
        "sx": "OSMagics",
        "system": "OSMagics",
        "time": "ExecutionMagics",
        "timeit": "ExecutionMagics",
        "writefile": "OSMagics"
       },
       "line": {
        "alias": "OSMagics",
        "alias_magic": "BasicMagics",
        "autoawait": "AsyncMagics",
        "autocall": "AutoMagics",
        "automagic": "AutoMagics",
        "autosave": "KernelMagics",
        "bookmark": "OSMagics",
        "cd": "OSMagics",
        "clear": "KernelMagics",
        "cls": "KernelMagics",
        "colors": "BasicMagics",
        "conda": "PackagingMagics",
        "config": "ConfigMagics",
        "connect_info": "KernelMagics",
        "copy": "Other",
        "ddir": "Other",
        "debug": "ExecutionMagics",
        "dhist": "OSMagics",
        "dirs": "OSMagics",
        "doctest_mode": "BasicMagics",
        "echo": "Other",
        "ed": "Other",
        "edit": "KernelMagics",
        "env": "OSMagics",
        "gui": "BasicMagics",
        "hist": "Other",
        "history": "HistoryMagics",
        "killbgscripts": "ScriptMagics",
        "ldir": "Other",
        "less": "KernelMagics",
        "load": "CodeMagics",
        "load_ext": "ExtensionMagics",
        "loadpy": "CodeMagics",
        "logoff": "LoggingMagics",
        "logon": "LoggingMagics",
        "logstart": "LoggingMagics",
        "logstate": "LoggingMagics",
        "logstop": "LoggingMagics",
        "ls": "Other",
        "lsmagic": "BasicMagics",
        "macro": "ExecutionMagics",
        "magic": "BasicMagics",
        "matplotlib": "PylabMagics",
        "mkdir": "Other",
        "more": "KernelMagics",
        "notebook": "BasicMagics",
        "page": "BasicMagics",
        "pastebin": "CodeMagics",
        "pdb": "ExecutionMagics",
        "pdef": "NamespaceMagics",
        "pdoc": "NamespaceMagics",
        "pfile": "NamespaceMagics",
        "pinfo": "NamespaceMagics",
        "pinfo2": "NamespaceMagics",
        "pip": "PackagingMagics",
        "popd": "OSMagics",
        "pprint": "BasicMagics",
        "precision": "BasicMagics",
        "prun": "ExecutionMagics",
        "psearch": "NamespaceMagics",
        "psource": "NamespaceMagics",
        "pushd": "OSMagics",
        "pwd": "OSMagics",
        "pycat": "OSMagics",
        "pylab": "PylabMagics",
        "qtconsole": "KernelMagics",
        "quickref": "BasicMagics",
        "recall": "HistoryMagics",
        "rehashx": "OSMagics",
        "reload_ext": "ExtensionMagics",
        "ren": "Other",
        "rep": "Other",
        "rerun": "HistoryMagics",
        "reset": "NamespaceMagics",
        "reset_selective": "NamespaceMagics",
        "rmdir": "Other",
        "run": "ExecutionMagics",
        "save": "CodeMagics",
        "sc": "OSMagics",
        "set_env": "OSMagics",
        "store": "StoreMagics",
        "sx": "OSMagics",
        "system": "OSMagics",
        "tb": "ExecutionMagics",
        "time": "ExecutionMagics",
        "timeit": "ExecutionMagics",
        "unalias": "OSMagics",
        "unload_ext": "ExtensionMagics",
        "who": "NamespaceMagics",
        "who_ls": "NamespaceMagics",
        "whos": "NamespaceMagics",
        "xdel": "NamespaceMagics",
        "xmode": "BasicMagics"
       }
      },
      "text/plain": [
       "Available line magics:\n",
       "%alias  %alias_magic  %autoawait  %autocall  %automagic  %autosave  %bookmark  %cd  %clear  %cls  %colors  %conda  %config  %connect_info  %copy  %ddir  %debug  %dhist  %dirs  %doctest_mode  %echo  %ed  %edit  %env  %gui  %hist  %history  %killbgscripts  %ldir  %less  %load  %load_ext  %loadpy  %logoff  %logon  %logstart  %logstate  %logstop  %ls  %lsmagic  %macro  %magic  %matplotlib  %mkdir  %more  %notebook  %page  %pastebin  %pdb  %pdef  %pdoc  %pfile  %pinfo  %pinfo2  %pip  %popd  %pprint  %precision  %prun  %psearch  %psource  %pushd  %pwd  %pycat  %pylab  %qtconsole  %quickref  %recall  %rehashx  %reload_ext  %ren  %rep  %rerun  %reset  %reset_selective  %rmdir  %run  %save  %sc  %set_env  %store  %sx  %system  %tb  %time  %timeit  %unalias  %unload_ext  %who  %who_ls  %whos  %xdel  %xmode\n",
       "\n",
       "Available cell magics:\n",
       "%%!  %%HTML  %%SVG  %%bash  %%capture  %%cmd  %%debug  %%file  %%html  %%javascript  %%js  %%latex  %%markdown  %%perl  %%prun  %%pypy  %%python  %%python2  %%python3  %%ruby  %%script  %%sh  %%svg  %%sx  %%system  %%time  %%timeit  %%writefile\n",
       "\n",
       "Automagic is ON, % prefix IS NOT needed for line magics."
      ]
     },
     "execution_count": 16,
     "metadata": {},
     "output_type": "execute_result"
    }
   ],
   "source": [
    "%lsmagic"
   ]
  },
  {
   "cell_type": "code",
   "execution_count": null,
   "id": "9afc4e2e-6451-4ed7-9fc5-6150ec779e49",
   "metadata": {},
   "outputs": [],
   "source": [
    "np"
   ]
  },
  {
   "cell_type": "code",
   "execution_count": 17,
   "id": "68724582-b8ca-478a-81e3-f7f553365005",
   "metadata": {},
   "outputs": [
    {
     "name": "stdout",
     "output_type": "stream",
     "text": [
      " C 드라이브의 볼륨에는 이름이 없습니다.\n",
      " 볼륨 일련 번호: D8AF-48F5\n",
      "\n",
      " C:\\Users\\a19th\\Desktop\\python\\py 디렉터리\n",
      "\n",
      "2023-03-15  오후 05:10    <DIR>          .\n",
      "2023-03-15  오후 05:10    <DIR>          ..\n",
      "2023-03-15  오후 03:34    <DIR>          .ipynb_checkpoints\n",
      "2023-03-15  오후 03:21             3,371 1-00개발환경.ipynb\n",
      "2023-03-15  오후 05:10            69,945 1-01JupyterNotebook.ipynb\n",
      "2023-03-15  오후 03:22         1,937,368 1-03Basic1_A.ipynb\n",
      "2023-03-15  오후 03:23            16,573 1-03Basic2.ipynb\n",
      "2023-03-15  오후 03:24           152,481 1-04Sequence_0.ipynb\n",
      "2023-03-15  오후 03:23            40,221 1-05Strings-Usages.ipynb\n",
      "2023-03-15  오후 02:45    <DIR>          Jupyter-Works\n",
      "               6개 파일           2,219,959 바이트\n",
      "               4개 디렉터리   2,517,139,456 바이트 남음\n"
     ]
    }
   ],
   "source": [
    "%ls"
   ]
  },
  {
   "cell_type": "code",
   "execution_count": null,
   "id": "ab0b9c69-b0be-4ab7-b509-a8d8db544d35",
   "metadata": {},
   "outputs": [],
   "source": [
    "%cd Jupyter-AI/"
   ]
  },
  {
   "cell_type": "code",
   "execution_count": 18,
   "id": "858ce59a-1ac6-4b6c-b5fc-de79ddc7c52b",
   "metadata": {},
   "outputs": [
    {
     "name": "stdout",
     "output_type": "stream",
     "text": [
      "Variable   Type        Data/Info\n",
      "--------------------------------\n",
      "a          int         10\n",
      "sum        function    <function sum at 0x0000021EE64EAC20>\n"
     ]
    }
   ],
   "source": [
    "%whos"
   ]
  },
  {
   "cell_type": "code",
   "execution_count": 19,
   "id": "0653662d-4825-4355-8c4b-8535a39b296d",
   "metadata": {},
   "outputs": [],
   "source": [
    "del a"
   ]
  },
  {
   "cell_type": "code",
   "execution_count": 20,
   "id": "4e5c3a2d-2b46-4d8d-af79-1e32f92cfbd2",
   "metadata": {},
   "outputs": [
    {
     "name": "stdout",
     "output_type": "stream",
     "text": [
      "Variable   Type        Data/Info\n",
      "--------------------------------\n",
      "sum        function    <function sum at 0x0000021EE64EAC20>\n"
     ]
    }
   ],
   "source": [
    "%whos"
   ]
  },
  {
   "cell_type": "code",
   "execution_count": 4,
   "id": "693d696a-cad7-40ad-941c-53ecd9d37783",
   "metadata": {},
   "outputs": [
    {
     "name": "stderr",
     "output_type": "stream",
     "text": [
      "UsageError: %%writefile is a cell magic, but the cell body is empty.\n"
     ]
    }
   ],
   "source": [
    "%%writefile"
   ]
  },
  {
   "cell_type": "code",
   "execution_count": 6,
   "id": "ca886b5c-fe28-4702-ac61-39a2f45fa219",
   "metadata": {},
   "outputs": [
    {
     "name": "stdout",
     "output_type": "stream",
     "text": [
      "Overwriting add.py\n"
     ]
    }
   ],
   "source": [
    "%%writefile add.py\n",
    "\n",
    "def add(x:int, y:int) -> int:\n",
    "    \"\"\"add()는 두 수를 더한 결과를 반환한다.\n",
    "    \"\"\"\n",
    "    return x+y\n",
    "\n",
    "print(add(100, 20))"
   ]
  },
  {
   "cell_type": "code",
   "execution_count": 7,
   "id": "f96b14b7-eaf2-4e9d-8b41-e94651806c97",
   "metadata": {},
   "outputs": [
    {
     "name": "stdout",
     "output_type": "stream",
     "text": [
      " C 드라이브의 볼륨에는 이름이 없습니다.\n",
      " 볼륨 일련 번호: D8AF-48F5\n",
      "\n",
      " C:\\Users\\a19th\\Desktop\\python\\py 디렉터리\n",
      "\n",
      "2023-03-16  오전 10:19               140 add.py\n",
      "               1개 파일                 140 바이트\n",
      "               0개 디렉터리   1,637,289,984 바이트 남음\n"
     ]
    }
   ],
   "source": [
    "%ls add.py"
   ]
  },
  {
   "cell_type": "code",
   "execution_count": 8,
   "id": "1b3e9fb9-14e4-4af8-9ea4-185b748a4563",
   "metadata": {},
   "outputs": [
    {
     "name": "stdout",
     "output_type": "stream",
     "text": [
      " C 드라이브의 볼륨에는 이름이 없습니다.\n",
      " 볼륨 일련 번호: D8AF-48F5\n",
      "\n",
      " C:\\Users\\a19th\\Desktop\\python\\py 디렉터리\n",
      "\n",
      "2023-03-16  오전 10:19    <DIR>          .\n",
      "2023-03-16  오전 10:19    <DIR>          ..\n",
      "2023-03-15  오후 05:28    <DIR>          .ipynb_checkpoints\n",
      "2023-03-15  오후 03:21             3,371 1-00개발환경.ipynb\n",
      "2023-03-16  오전 10:19            82,781 1-01JupyterNotebook.ipynb\n",
      "2023-03-15  오후 03:22         1,937,368 1-03Basic1_A.ipynb\n",
      "2023-03-15  오후 03:23            16,573 1-03Basic2.ipynb\n",
      "2023-03-15  오후 03:24           152,481 1-04Sequence_0.ipynb\n",
      "2023-03-15  오후 03:23            40,221 1-05Strings-Usages.ipynb\n",
      "2023-03-16  오전 10:19               140 add.py\n",
      "2023-03-15  오후 02:45    <DIR>          Jupyter-Works\n",
      "2023-03-15  오후 05:30                13 sub1.md\n",
      "               8개 파일           2,232,948 바이트\n",
      "               4개 디렉터리   1,635,512,320 바이트 남음\n"
     ]
    }
   ],
   "source": [
    "%ls"
   ]
  },
  {
   "cell_type": "code",
   "execution_count": 1,
   "id": "d8ca5f15-d6ac-4727-b94c-d5c0169e7098",
   "metadata": {
    "tags": []
   },
   "outputs": [
    {
     "data": {
      "text/plain": [
       "\u001b[1;33m\n",
       "\u001b[0m\u001b[1;32mdef\u001b[0m \u001b[0madd\u001b[0m\u001b[1;33m(\u001b[0m\u001b[0mx\u001b[0m\u001b[1;33m:\u001b[0m\u001b[0mint\u001b[0m\u001b[1;33m,\u001b[0m \u001b[0my\u001b[0m\u001b[1;33m:\u001b[0m\u001b[0mint\u001b[0m\u001b[1;33m)\u001b[0m \u001b[1;33m->\u001b[0m \u001b[0mint\u001b[0m\u001b[1;33m:\u001b[0m\u001b[1;33m\n",
       "\u001b[0m    \u001b[1;34m\"\"\"add()는 두 수를 더한 결과를 반환한다.\n",
       "    \"\"\"\u001b[0m\u001b[1;33m\n",
       "\u001b[0m    \u001b[1;32mreturn\u001b[0m \u001b[0mx\u001b[0m\u001b[1;33m+\u001b[0m\u001b[0my\u001b[0m\u001b[1;33m\n",
       "\u001b[0m\u001b[1;33m\n",
       "\u001b[0m\u001b[0mprint\u001b[0m\u001b[1;33m(\u001b[0m\u001b[0madd\u001b[0m\u001b[1;33m(\u001b[0m\u001b[1;36m100\u001b[0m\u001b[1;33m,\u001b[0m \u001b[1;36m20\u001b[0m\u001b[1;33m)\u001b[0m\u001b[1;33m)\u001b[0m\u001b[1;33m\u001b[0m\u001b[1;33m\u001b[0m\u001b[0m\n"
      ]
     },
     "metadata": {},
     "output_type": "display_data"
    }
   ],
   "source": [
    "%pycat add.py"
   ]
  },
  {
   "cell_type": "code",
   "execution_count": null,
   "id": "0016a3f3-1dfc-4fc0-899d-9b0644b8d02c",
   "metadata": {},
   "outputs": [],
   "source": [
    "%run"
   ]
  },
  {
   "cell_type": "code",
   "execution_count": null,
   "id": "7741b8ec-10a4-4edc-ac67-396cf0265b27",
   "metadata": {},
   "outputs": [],
   "source": [
    "! python add.py"
   ]
  },
  {
   "cell_type": "code",
   "execution_count": 2,
   "id": "f8ef4bc3-bd47-467a-aae1-9ac9dfdc8d7a",
   "metadata": {},
   "outputs": [
    {
     "name": "stdout",
     "output_type": "stream",
     "text": [
      "Appending to add.py\n"
     ]
    }
   ],
   "source": [
    "%%writefile -a add.py\n",
    "\n",
    "def add(x:int, y:int) -> int:\n",
    "    \"\"\"add()는 두 수를 더한 결과를 반환한다.\n",
    "    \"\"\"\n",
    "    return x+y\n",
    "\n",
    "print(add(100, 20))"
   ]
  },
  {
   "cell_type": "code",
   "execution_count": 9,
   "id": "07889f19-1273-4237-b2a8-05c0208c72ee",
   "metadata": {},
   "outputs": [
    {
     "name": "stdout",
     "output_type": "stream",
     "text": [
      " C 드라이브의 볼륨에는 이름이 없습니다.\n",
      " 볼륨 일련 번호: D8AF-48F5\n",
      "\n",
      " C:\\Users\\a19th\\Desktop\\python\\py 디렉터리\n",
      "\n",
      "2023-03-16  오전 10:19               140 add.py\n",
      "               1개 파일                 140 바이트\n",
      "               0개 디렉터리   1,632,112,640 바이트 남음\n"
     ]
    }
   ],
   "source": [
    "%ls add.py"
   ]
  },
  {
   "cell_type": "code",
   "execution_count": 10,
   "id": "42cae2e9-9fa2-4f8b-aeb5-e621dd7af3dd",
   "metadata": {},
   "outputs": [
    {
     "name": "stdout",
     "output_type": "stream",
     "text": [
      "120\n"
     ]
    }
   ],
   "source": [
    "%run add.py # 외부 파일 실행"
   ]
  },
  {
   "cell_type": "code",
   "execution_count": 12,
   "id": "5ab39760-9537-4aac-b857-5741a4522819",
   "metadata": {},
   "outputs": [
    {
     "name": "stdout",
     "output_type": "stream",
     "text": [
      "120\n"
     ]
    }
   ],
   "source": [
    "! python add.py # 외부 파일 실행"
   ]
  },
  {
   "cell_type": "code",
   "execution_count": 9,
   "id": "6630a93c-6ce6-4e2c-89d8-7eccc122882c",
   "metadata": {},
   "outputs": [
    {
     "name": "stdout",
     "output_type": "stream",
     "text": [
      " C 드라이브의 볼륨에는 이름이 없습니다.\n",
      " 볼륨 일련 번호: D8AF-48F5\n",
      "\n",
      " C:\\Users\\a19th\\Desktop\\python\\py 디렉터리\n",
      "\n",
      "2023-03-16  오전 11:03    <DIR>          .\n",
      "2023-03-16  오전 11:03    <DIR>          ..\n",
      "2023-03-15  오후 05:28    <DIR>          .ipynb_checkpoints\n",
      "2023-03-15  오후 03:21             3,371 1-00개발환경.ipynb\n",
      "2023-03-16  오전 11:03            89,372 1-01JupyterNotebook.ipynb\n",
      "2023-03-15  오후 03:22         1,937,368 1-03Basic1_A.ipynb\n",
      "2023-03-15  오후 03:23            16,573 1-03Basic2.ipynb\n",
      "2023-03-15  오후 03:24           152,481 1-04Sequence_0.ipynb\n",
      "2023-03-15  오후 03:23            40,221 1-05Strings-Usages.ipynb\n",
      "2023-03-16  오전 10:19               140 add.py\n",
      "2023-03-15  오후 02:45    <DIR>          Jupyter-Works\n",
      "2023-03-15  오후 05:30                13 sub1.md\n",
      "2023-03-16  오전 10:48    <DIR>          test\n",
      "2023-03-16  오전 11:03    <DIR>          test2\n",
      "               8개 파일           2,239,539 바이트\n",
      "               6개 디렉터리   1,625,874,432 바이트 남음\n"
     ]
    }
   ],
   "source": [
    "! dir"
   ]
  },
  {
   "cell_type": "markdown",
   "id": "5910f48f-16b7-4ed4-807c-e93f1f1adc8d",
   "metadata": {},
   "source": [
    "## 디렉토리\n",
    "folder/directory : 파일을 담아두는 공간. 같은 의미!"
   ]
  },
  {
   "cell_type": "code",
   "execution_count": 1,
   "id": "7f5a2a3a-f51f-4ed7-bb2a-e42f4215ab64",
   "metadata": {},
   "outputs": [
    {
     "data": {
      "text/plain": [
       "'C:\\\\Users\\\\a19th\\\\Desktop\\\\python\\\\py'"
      ]
     },
     "execution_count": 1,
     "metadata": {},
     "output_type": "execute_result"
    }
   ],
   "source": [
    "%pwd #현재 디렉토리의 경로 출력"
   ]
  },
  {
   "cell_type": "markdown",
   "id": "c4446bfa-c4a1-4fca-b7b2-9c61e6e89090",
   "metadata": {},
   "source": [
    "* . : 현재 디렉토리(자기자신)\n",
    "* .. : 이전 디렉토리"
   ]
  },
  {
   "cell_type": "code",
   "execution_count": 8,
   "id": "0a509171-e513-4f5b-8713-0cffe32ded0f",
   "metadata": {},
   "outputs": [
    {
     "name": "stdout",
     "output_type": "stream",
     "text": [
      " C 드라이브의 볼륨에는 이름이 없습니다.\n",
      " 볼륨 일련 번호: D8AF-48F5\n",
      "\n",
      " C:\\Users\\a19th\\Desktop\\python\\py 디렉터리\n",
      "\n"
     ]
    },
    {
     "name": "stderr",
     "output_type": "stream",
     "text": [
      "파일을 찾을 수 없습니다.\n"
     ]
    }
   ],
   "source": [
    "%ls #리스트업"
   ]
  },
  {
   "cell_type": "markdown",
   "id": "1c63e41f-beb7-40d8-a3db-068979cb98ab",
   "metadata": {},
   "source": [
    "%cd desktop/python/py 디렉토리 이동"
   ]
  },
  {
   "cell_type": "code",
   "execution_count": 2,
   "id": "21758526-f8c9-4f95-9fa8-8d3c8eb31bcb",
   "metadata": {},
   "outputs": [],
   "source": [
    "%mkdir test"
   ]
  },
  {
   "cell_type": "code",
   "execution_count": 7,
   "id": "59995bb6-3eea-439b-83e0-356a0d267e47",
   "metadata": {},
   "outputs": [
    {
     "name": "stdout",
     "output_type": "stream",
     "text": [
      " C 드라이브의 볼륨에는 이름이 없습니다.\n",
      " 볼륨 일련 번호: D8AF-48F5\n",
      "\n",
      " C:\\Users\\a19th\\Desktop\\python\\py\\test 디렉터리\n",
      "\n",
      "2023-03-16  오전 10:48    <DIR>          .\n",
      "2023-03-16  오전 10:48    <DIR>          ..\n",
      "               0개 파일                   0 바이트\n",
      "               2개 디렉터리   1,622,478,848 바이트 남음\n"
     ]
    }
   ],
   "source": [
    "%ls test"
   ]
  },
  {
   "cell_type": "code",
   "execution_count": 6,
   "id": "707c22e1-94b9-449a-9b9e-8c7c4db5bfde",
   "metadata": {},
   "outputs": [
    {
     "name": "stderr",
     "output_type": "stream",
     "text": [
      "하위 디렉터리 또는 파일 test2이(가) 이미 있습니다.\n"
     ]
    }
   ],
   "source": [
    "%mkdir test2"
   ]
  },
  {
   "cell_type": "code",
   "execution_count": 11,
   "id": "db4f2898-1db7-40fa-8770-b460755d50ba",
   "metadata": {},
   "outputs": [],
   "source": [
    "# 디렉토리 지우기\n",
    "%rmdir \"test2\""
   ]
  },
  {
   "cell_type": "code",
   "execution_count": 16,
   "id": "2067005b-6681-4311-9f24-fa79432eaede",
   "metadata": {},
   "outputs": [
    {
     "name": "stdout",
     "output_type": "stream",
     "text": [
      " C 드라이브의 볼륨에는 이름이 없습니다.\n",
      " 볼륨 일련 번호: D8AF-48F5\n",
      "\n",
      " C:\\Users\\a19th\\Desktop\\python\\py 디렉터리\n",
      "\n",
      "2023-03-16  오전 11:05    <DIR>          .\n",
      "2023-03-16  오전 11:05    <DIR>          ..\n",
      "2023-03-15  오후 05:28    <DIR>          .ipynb_checkpoints\n",
      "2023-03-15  오후 03:21             3,371 1-00개발환경.ipynb\n",
      "2023-03-16  오전 11:03            89,372 1-01JupyterNotebook.ipynb\n",
      "2023-03-15  오후 03:22         1,937,368 1-03Basic1_A.ipynb\n",
      "2023-03-15  오후 03:23            16,573 1-03Basic2.ipynb\n",
      "2023-03-15  오후 03:24           152,481 1-04Sequence_0.ipynb\n",
      "2023-03-15  오후 03:23            40,221 1-05Strings-Usages.ipynb\n",
      "2023-03-16  오전 10:19               140 add.py\n",
      "2023-03-15  오후 02:45    <DIR>          Jupyter-Works\n",
      "2023-03-15  오후 05:30                13 sub1.md\n",
      "2023-03-16  오전 10:48    <DIR>          test\n",
      "2023-03-16  오전 11:04    <DIR>          test3\n",
      "               8개 파일           2,239,539 바이트\n",
      "               6개 디렉터리   1,621,114,880 바이트 남음\n"
     ]
    }
   ],
   "source": [
    "%ls"
   ]
  },
  {
   "cell_type": "code",
   "execution_count": 13,
   "id": "9e0fbd4c-ac8c-4583-997c-620f451b277a",
   "metadata": {},
   "outputs": [],
   "source": [
    "%mkdir test2"
   ]
  },
  {
   "cell_type": "code",
   "execution_count": 15,
   "id": "c4d7068b-d3ed-4621-95ae-3e11b96b521e",
   "metadata": {},
   "outputs": [],
   "source": [
    "#rename\n",
    "%ren test2 test3"
   ]
  },
  {
   "cell_type": "code",
   "execution_count": 17,
   "id": "58f50d4c-c4a2-4876-8b7a-defa6c50c293",
   "metadata": {},
   "outputs": [
    {
     "name": "stdout",
     "output_type": "stream",
     "text": [
      "%pwd #현재 디렉토리의 경로 출력\n",
      "%mkdir test\n",
      "%ls test\n",
      "!mkdir test2\n",
      "# 디렉토리 지우기\n",
      "%rmdir \"untitled Folder\"\n",
      "%mkdir test2\n",
      "%ls test\n",
      "%ls #리스트업\n",
      "! dir\n",
      "# 디렉토리 지우기\n",
      "%rmdir \"Untitled Folder\"\n",
      "# 디렉토리 지우기\n",
      "%rmdir \"test2\"\n",
      "%ls\n",
      "%mkdir test2\n",
      "#rename\n",
      "!mv test2 test3\n",
      "#rename\n",
      "%ren test2 test3\n",
      "%ls\n",
      "%history\n"
     ]
    }
   ],
   "source": [
    "#지금껏 작성해왔던 명령 보기\n",
    "%history"
   ]
  },
  {
   "cell_type": "code",
   "execution_count": null,
   "id": "6211f88c-f9e7-4346-b141-e2e855e5a586",
   "metadata": {},
   "outputs": [],
   "source": [
    "%reset"
   ]
  },
  {
   "cell_type": "markdown",
   "id": "60f8e7b7-ac13-4083-8c46-38441873809f",
   "metadata": {},
   "source": [
    "### ex) 외부명령 실행 결과 저장하는 방법 찾아보세요!!!"
   ]
  },
  {
   "cell_type": "code",
   "execution_count": null,
   "id": "194ba128-6688-4743-bfd3-c08fc17cb7a8",
   "metadata": {},
   "outputs": [],
   "source": []
  },
  {
   "cell_type": "code",
   "execution_count": null,
   "id": "38611fdf-369c-4dc7-8b7c-1df57fdc3271",
   "metadata": {},
   "outputs": [],
   "source": []
  },
  {
   "cell_type": "code",
   "execution_count": null,
   "id": "04616778-ab35-4451-8ea0-bf7d90e50645",
   "metadata": {},
   "outputs": [],
   "source": []
  },
  {
   "cell_type": "markdown",
   "id": "3ba71c6d-c85c-4e38-9d74-f76dbcea5969",
   "metadata": {},
   "source": [
    "## 수행시간 프로파일링\n",
    "\n",
    " - `%time`: 코드를 한번 수행되는 시간\n",
    " - `%timeit` , `%%timeit`: 코드를 여러번 수행해 평균을 측정"
   ]
  },
  {
   "cell_type": "code",
   "execution_count": null,
   "id": "9ae39da1-4dd8-4b80-a6a4-0ee8bf51a7e7",
   "metadata": {},
   "outputs": [],
   "source": [
    "import time\n",
    "\n",
    "# - 시간측정 -> 시작시간\n",
    "\n",
    "# 시작\n",
    "# ...\n",
    "\n",
    "# 실행\n",
    "#...\n",
    "\n",
    "#종료\n",
    "# - 시간측정 -> 종료시간\n",
    "# 종료시간 - 시작시간 = 시간"
   ]
  },
  {
   "cell_type": "code",
   "execution_count": null,
   "id": "5da43163-9e86-4489-9dea-29b85fe317df",
   "metadata": {},
   "outputs": [],
   "source": [
    "from collections import deque"
   ]
  },
  {
   "cell_type": "code",
   "execution_count": null,
   "id": "14b3c385-2b65-4de1-9e88-a84f9991c2be",
   "metadata": {},
   "outputs": [],
   "source": []
  },
  {
   "cell_type": "markdown",
   "id": "4493e420-7a46-4a15-bee1-df7658b58b03",
   "metadata": {},
   "source": [
    "### `%time` 과 `%%time`\n",
    "\n",
    "코드가 한번 실행하는 수행시간을 측정"
   ]
  },
  {
   "cell_type": "markdown",
   "id": "d9a44cd9-506e-4300-a25c-583b9d4788df",
   "metadata": {},
   "source": [
    "cpu time 종료/출력 wall time 시작"
   ]
  },
  {
   "cell_type": "code",
   "execution_count": 18,
   "id": "346caefe-c556-403a-87d0-729660eeb873",
   "metadata": {
    "tags": []
   },
   "outputs": [
    {
     "ename": "NameError",
     "evalue": "name 'deque' is not defined",
     "output_type": "error",
     "traceback": [
      "\u001b[1;31m---------------------------------------------------------------------------\u001b[0m",
      "\u001b[1;31mNameError\u001b[0m                                 Traceback (most recent call last)",
      "File \u001b[1;32m<timed eval>:1\u001b[0m\n",
      "\u001b[1;31mNameError\u001b[0m: name 'deque' is not defined"
     ]
    }
   ],
   "source": [
    "%time deque([i for i in range(100)])"
   ]
  },
  {
   "cell_type": "code",
   "execution_count": 19,
   "id": "d39acd76-7ee4-4a07-91dc-06438d1d768b",
   "metadata": {},
   "outputs": [
    {
     "name": "stdout",
     "output_type": "stream",
     "text": [
      "CPU times: total: 0 ns\n",
      "Wall time: 0 ns\n"
     ]
    },
    {
     "data": {
      "text/plain": [
       "4950"
      ]
     },
     "execution_count": 19,
     "metadata": {},
     "output_type": "execute_result"
    }
   ],
   "source": [
    "%time sum(range(100))"
   ]
  },
  {
   "cell_type": "code",
   "execution_count": 20,
   "id": "afc05683-411d-4ece-b47c-7f966f8df652",
   "metadata": {},
   "outputs": [
    {
     "name": "stdout",
     "output_type": "stream",
     "text": [
      "CPU times: total: 0 ns\n",
      "Wall time: 0 ns\n"
     ]
    },
    {
     "data": {
      "text/plain": [
       "499500"
      ]
     },
     "execution_count": 20,
     "metadata": {},
     "output_type": "execute_result"
    }
   ],
   "source": [
    "%%time\n",
    "sum(range(100))\n",
    "sum(range(1000))"
   ]
  },
  {
   "cell_type": "markdown",
   "id": "1cca44cb-d022-415d-b1fe-dd13ebca0603",
   "metadata": {},
   "source": [
    "### `%timeit` 과 `%%timeit`\n",
    "\n",
    "코드를 여러번 수행한 평균 시간을 측정"
   ]
  },
  {
   "cell_type": "code",
   "execution_count": 22,
   "id": "87496695-a426-4c13-aeb9-9e6f7cb01aca",
   "metadata": {},
   "outputs": [
    {
     "name": "stdout",
     "output_type": "stream",
     "text": [
      "20.9 µs ± 1.25 µs per loop (mean ± std. dev. of 7 runs, 10,000 loops each)\n"
     ]
    }
   ],
   "source": [
    "%%timeit\n",
    "sum(range(100))\n",
    "sum(range(1000))"
   ]
  },
  {
   "cell_type": "code",
   "execution_count": 24,
   "id": "efb2ad7f-4f1c-4145-90e5-b9d0bde664f6",
   "metadata": {},
   "outputs": [],
   "source": [
    "import numpy as np"
   ]
  },
  {
   "cell_type": "code",
   "execution_count": 25,
   "id": "84b3f556-638f-4f7b-bffb-dbedd5f54c3e",
   "metadata": {},
   "outputs": [
    {
     "name": "stdout",
     "output_type": "stream",
     "text": [
      "9.69 µs ± 624 ns per loop (mean ± std. dev. of 7 runs, 100,000 loops each)\n"
     ]
    }
   ],
   "source": [
    "%timeit np.sum(1000)"
   ]
  },
  {
   "cell_type": "code",
   "execution_count": null,
   "id": "849e8e63-323b-4a04-bb5a-d365f112cb8f",
   "metadata": {},
   "outputs": [],
   "source": [
    "%%timeit"
   ]
  },
  {
   "cell_type": "code",
   "execution_count": null,
   "id": "b5b143e2-5823-4fe7-830e-6ad7eaed2faf",
   "metadata": {},
   "outputs": [],
   "source": [
    "%timeit deque([i for i in range(100)])\n",
    "%timeit deque([i for i in range(10000)])\n",
    "%timeit deque([i for i in range(1000000)])\n",
    "%timeit deque([i for i in range(100000000)])"
   ]
  },
  {
   "cell_type": "code",
   "execution_count": null,
   "id": "8b69a831-c397-4e82-96ce-130677378398",
   "metadata": {},
   "outputs": [],
   "source": [
    "%timeit deque(i for i in range(100))\n",
    "%timeit deque(i for i in range(10000))\n",
    "%timeit deque(i for i in range(1000000))\n",
    "%timeit deque(i for i in range(100000000))"
   ]
  },
  {
   "cell_type": "code",
   "execution_count": null,
   "id": "25922ccd-3417-49ec-a71a-1865855525f3",
   "metadata": {},
   "outputs": [],
   "source": [
    "%timeit deque(range(100))\n",
    "%timeit deque(range(10000))\n",
    "%timeit deque(range(1000000))\n",
    "%timeit deque(range(100000000))"
   ]
  },
  {
   "cell_type": "code",
   "execution_count": null,
   "id": "cc4c4c03-c0c4-45e0-9617-6453c736e08d",
   "metadata": {},
   "outputs": [],
   "source": [
    "%timeit [i for i in range(100)]\n",
    "%timeit [i for i in range(10000)]\n",
    "%timeit [i for i in range(1000000)]\n",
    "%timeit [i for i in range(100000000)]"
   ]
  },
  {
   "cell_type": "code",
   "execution_count": null,
   "id": "67681ea2-6e8b-4e73-8335-4cd282c4f601",
   "metadata": {},
   "outputs": [],
   "source": [
    "%timeit list(range(100))\n",
    "%timeit list(range(10000))\n",
    "%timeit list(range(1000000))\n",
    "%timeit list(range(100000000))"
   ]
  },
  {
   "cell_type": "code",
   "execution_count": null,
   "id": "a77e3437-693a-44fa-a373-0e709ff30379",
   "metadata": {},
   "outputs": [],
   "source": [
    "%%timeit\n",
    "\n",
    "list(range(100))\n",
    "list(range(10000))\n",
    "list(range(1000000))\n",
    "list(range(100000000))"
   ]
  },
  {
   "cell_type": "markdown",
   "id": "27857e4a-3b23-4ecb-b31d-2561c7e2ec4c",
   "metadata": {},
   "source": [
    "### `%timeit` 의 옵션\n",
    "\n",
    "- `-n` : 한 루프당 몇 번 실행할 것인지 지정한다. 지정하지 않으면 알아서 적당히 충분히 정확한 데이터가 나올 정도로 실행함\n",
    "- `-r` : %timeit은 여러번 반복해서 그 평균값과 오차범위를 보여주는데, 몇 번 반복할 것인지를 지정할 수 있다.  기본값으로 7번 반복."
   ]
  },
  {
   "cell_type": "code",
   "execution_count": null,
   "id": "41a66fab-d351-4435-b92e-55efc7798cd1",
   "metadata": {},
   "outputs": [],
   "source": [
    "#  3(loops) * 3(runs)로 총 9번 실행이 된다\n",
    "%%timeit -n 3 -r 3\n",
    "\n",
    "list(range(100))\n",
    "list(range(10000))\n",
    "list(range(1000000))\n",
    "list(range(100000000))"
   ]
  },
  {
   "cell_type": "code",
   "execution_count": null,
   "id": "fa6624b8-8139-4959-abe1-fda8884cec0a",
   "metadata": {},
   "outputs": [],
   "source": [
    "%timeit -n 3 -r 3 sum(range(1000))"
   ]
  },
  {
   "cell_type": "code",
   "execution_count": null,
   "id": "de90d0e0-b208-44f5-99f4-32eb5cba6ae8",
   "metadata": {},
   "outputs": [],
   "source": [
    "%timeit -n 1 -r 3 sum(range(1000))"
   ]
  },
  {
   "cell_type": "markdown",
   "id": "99221f36-8731-42e2-bb1f-e3c3db1ada47",
   "metadata": {},
   "source": [
    " - `-t` : 시간계산에 time.time 모듈을 사용하게 된다. Unix 시스템에서 디폴트값이다\n",
    " - `-c` : 시간계산에 time.clock 모듈을 사용하게 된다. Windows 시스템에서 디폴트값이다. Unix시스템에서 이 옵션을 주면 Wall time(사람이 인지할 수 있는 시간) 대신 CPU time으로 계산된다\n",
    " - `-p` : 소숫점 몇자리까지 표시되는지 설정할 수 있다. 디폴트값은 3이다\n",
    " - `-q` : Quiet, 즉 결과값이 출력되지 않는다\n",
    " - `-o` : 결과를 TimeitResult객체로 반환한다"
   ]
  },
  {
   "cell_type": "code",
   "execution_count": null,
   "id": "d51e882b-21b3-4974-a244-692e559d6a8b",
   "metadata": {},
   "outputs": [],
   "source": []
  },
  {
   "cell_type": "markdown",
   "id": "9b15688f-f8d9-4980-8a09-f97364872687",
   "metadata": {
    "tags": []
   },
   "source": [
    "# Markdown 사용\n",
    "\n",
    "https://guides.github.com/features/mastering-markdown/"
   ]
  },
  {
   "cell_type": "markdown",
   "id": "4ac922fa-d470-4e26-97b0-b8e2794ca933",
   "metadata": {},
   "source": [
    "Markup + downgrade\n",
    "- markup : HTML markup\n",
    "- downgrade"
   ]
  },
  {
   "cell_type": "markdown",
   "id": "9e060e02-9ed3-481e-ab2c-4b39e290d04c",
   "metadata": {},
   "source": [
    "## 헤딩\n",
    "\n",
    "`#` 으로 `<h>` 태그 표현\n",
    "\n",
    "\n",
    "\n",
    "```html\n",
    "<h1></h1>\n",
    "<h2></h2>\n",
    "<h3></h3>\n",
    "<h4></h4>\n",
    "<h5></h5>\n",
    "```\n"
   ]
  },
  {
   "cell_type": "markdown",
   "id": "920334d3-9d7d-4f1c-b19d-30aaf332a8e5",
   "metadata": {},
   "source": [
    "<h1>안녕, 제목</h1>"
   ]
  },
  {
   "cell_type": "markdown",
   "id": "3a91dde7-a432-4196-8255-9c4a143d5728",
   "metadata": {},
   "source": [
    "<h2>안녕, 제목</h2>"
   ]
  },
  {
   "cell_type": "markdown",
   "id": "c69c12b3-0399-44b1-b423-a740faafaf0f",
   "metadata": {},
   "source": [
    "<h3>안녕, 제목</h3>"
   ]
  },
  {
   "cell_type": "markdown",
   "id": "29f221e3-91d5-41e4-8420-05b611814828",
   "metadata": {},
   "source": [
    "<h4>안녕, 제목</h4>"
   ]
  },
  {
   "cell_type": "markdown",
   "id": "3119f0ee-ffdb-44bc-b124-f856aa7e9946",
   "metadata": {},
   "source": [
    "<h5>안녕, 제목</h5>"
   ]
  },
  {
   "cell_type": "markdown",
   "id": "61b9cc23-3cc6-433d-9dee-0e9d3d19f858",
   "metadata": {},
   "source": [
    "## 텍스트 스타일\n",
    "\n",
    "```\n",
    "*안녕하세요*\n",
    "\n",
    "_안녕하세요_\n",
    "\n",
    "\n",
    "**안녕하세요**\n",
    "\n",
    "__안녕하세요__\n",
    "\n",
    "안녕하세요. **IoT** **_과정_** 여러분 ***반갑***습니다.\n",
    "```\n",
    "\n",
    "\n"
   ]
  },
  {
   "cell_type": "markdown",
   "id": "1917fa58-60cf-432b-81dc-51a591fff8c0",
   "metadata": {},
   "source": [
    "*안녕하세요*"
   ]
  },
  {
   "cell_type": "markdown",
   "id": "604fa682-832a-4e29-86d7-78290308ae0d",
   "metadata": {},
   "source": [
    "_안녕하세요_"
   ]
  },
  {
   "cell_type": "markdown",
   "id": "1abdf76e-5c82-4645-95c1-ec95fe840591",
   "metadata": {},
   "source": [
    "**안녕하세요**"
   ]
  },
  {
   "cell_type": "markdown",
   "id": "d9af1489-e783-4286-aeb2-40ea54301540",
   "metadata": {},
   "source": [
    "__안녕하세요__"
   ]
  },
  {
   "cell_type": "markdown",
   "id": "b82eb1dc-1965-4949-ba3f-adf67c9a1856",
   "metadata": {},
   "source": [
    "안녕하세요. **IoT** **_과정_** 여러분 ***반갑***습니다."
   ]
  },
  {
   "cell_type": "markdown",
   "id": "74aa4580-325e-496f-9358-9bf11c4e1471",
   "metadata": {},
   "source": [
    "## 인용\n",
    "\n",
    "```\n",
    "> 인용은 해당 문서 내용중 외부에서 얻은 자료...\n",
    "자료....\n",
    "\n",
    ">인용은 해당 문서 내용중 외부에서\n",
    "> ```java\n",
    "> public class java {\n",
    "> \n",
    "> }\n",
    "> ```\n",
    "```"
   ]
  },
  {
   "cell_type": "markdown",
   "id": "3e4afcf1-7d9f-4539-8e4a-ad15f1c44863",
   "metadata": {},
   "source": [
    "> 인용은 해당 문서 내용중 외부에서 얻은 자료...\n",
    "자료...."
   ]
  },
  {
   "cell_type": "markdown",
   "id": "f6a1c9b0-0375-4364-852f-90bad09b8e8b",
   "metadata": {},
   "source": [
    ">인용은 해당 문서 내용중 외부에서\n",
    "> ```java\n",
    "> public class java {\n",
    "> \n",
    "> }\n",
    "> ```"
   ]
  },
  {
   "cell_type": "markdown",
   "id": "315e30a0-6d8c-4996-b534-34ebfb2b962f",
   "metadata": {},
   "source": [
    ">인용은 해당 문서 내용중 외부에서\n",
    "> ```java\n",
    "> public class java {\n",
    "> \n",
    "> }\n",
    "> ```"
   ]
  },
  {
   "cell_type": "markdown",
   "id": "9b0aeaa6-6ca4-4f34-892c-a2269b686d8a",
   "metadata": {},
   "source": [
    "## 코드\n",
    "\n",
    "```\n",
    "def foo():\n",
    "    if not bar:\n",
    "        return True\n",
    "```\n"
   ]
  },
  {
   "cell_type": "markdown",
   "id": "23bc71dc-91b2-4ce5-a05f-534e4a182ee0",
   "metadata": {},
   "source": [
    "## Syntax highlighting\n",
    "\n",
    "\n",
    "```python\n",
    "def foo():\n",
    "    if not bar:\n",
    "        return True\n",
    "```"
   ]
  },
  {
   "cell_type": "markdown",
   "id": "33f8a76d-a8ac-467b-9c45-d0906753b8f1",
   "metadata": {},
   "source": [
    "## 링크\n",
    "\n",
    "```\n",
    "[서브1](./sub1.md)\n",
    "\n",
    "[서브1](sub1.md)\n",
    "\n",
    "[서브1](/day2/sub1.md)\n",
    "\n",
    "[깃헙](https://guides.github.com/features/mastering-markdown/)\n",
    "```\n",
    "\n",
    "a link\n",
    "\n",
    "```\n",
    "<a href=\"./sub1.md\">a link 서브1</a>\n",
    "```\n"
   ]
  },
  {
   "cell_type": "markdown",
   "id": "88a43a99-abcf-44b5-bb83-886ada778f0d",
   "metadata": {},
   "source": [
    "./ : 현재 디렉토리"
   ]
  },
  {
   "cell_type": "markdown",
   "id": "e8748202-c7ce-4737-bc31-fcc9eac0627a",
   "metadata": {},
   "source": [
    "[서브1](./sub1.md)"
   ]
  },
  {
   "cell_type": "markdown",
   "id": "95dc6aa9-41fe-4e5d-9b2a-9713912e306c",
   "metadata": {},
   "source": [
    "[서브1](sub.md)\n",
    "\n",
    "[서브1](/day2/sub1.md)\n",
    "\n",
    "[깃헙](https://guides.github.com/features/mastering-markdown/)\n",
    "```\n",
    "\n",
    "a link\n",
    "\n",
    "<a href=\"sub1.md\">a link 서브1</a> <!--주석 : 상대적 경로 -->\n",
    "(a href=\"./sub1.md\">a link 서브1</a> <!-- 절대적 경로 -->"
   ]
  },
  {
   "cell_type": "markdown",
   "id": "d9ea8e5c-df3c-4409-a374-34043633ab3a",
   "metadata": {
    "tags": []
   },
   "source": [
    "## 이미지\n",
    "\n",
    "```\n",
    "![](https://octodex.github.com/images/yaktocat.png)\n",
    "\n",
    "<img src='https://octodex.github.com/images/yaktocat.png' width=200>\n",
    "```\n"
   ]
  },
  {
   "cell_type": "markdown",
   "id": "98d0504f-8ead-4e90-97ce-1aebd33c733a",
   "metadata": {},
   "source": [
    "![](https://octodex.github.com/images/yaktocat.png)"
   ]
  },
  {
   "cell_type": "markdown",
   "id": "ef5824fc-0287-41c6-a491-cbf2660c0d8c",
   "metadata": {},
   "source": [
    "<img src='https://octodex.github.com/images/yaktocat.png' width=200>"
   ]
  },
  {
   "cell_type": "markdown",
   "id": "a55a7124-cf47-4e11-9b72-62164fa4770c",
   "metadata": {},
   "source": [
    "imgur 이용"
   ]
  },
  {
   "cell_type": "markdown",
   "id": "18979837-aea5-41ff-ab58-d109136ca5cb",
   "metadata": {
    "tags": []
   },
   "source": [
    "raw 이미지 (마크다운 raw 포맷)\n",
    "* colab / github에서는 깨져요!"
   ]
  },
  {
   "attachments": {
    "fd1aaf3a-be20-4990-92f6-f463b11c4bc4.png": {
     "image/png": "[encoded data removed]"
    }
   },
   "cell_type": "markdown",
   "id": "160546b6-05e0-48cb-b700-e5061a019487",
   "metadata": {},
   "source": [
    "고양이 이미지\n",
    "\n",
    "![image.png](attachment:fd1aaf3a-be20-4990-92f6-f463b11c4bc4.png)"
   ]
  },
  {
   "cell_type": "markdown",
   "id": "6df53622-f239-450f-abc8-59bd81aa64a8",
   "metadata": {},
   "source": [
    "imgur 이용"
   ]
  },
  {
   "cell_type": "markdown",
   "id": "bd4aa348-916e-4c18-9bd9-9ee2c74a3456",
   "metadata": {},
   "source": [
    "## 리스트\n",
    "\n",
    "HTML 리스트\n",
    "\n",
    "```\n",
    "<ul>\n",
    " <li>하나\n",
    " <li>둘\n",
    "</ul>\n",
    "\n",
    "<ol>\n",
    " <li>하나\n",
    " <li>둘\n",
    "</ol>\n",
    "```"
   ]
  },
  {
   "cell_type": "markdown",
   "id": "8d813ea5-d0b7-4dc1-af9f-a54c8a3630f8",
   "metadata": {},
   "source": [
    "마크다운 리스트\n",
    "\n",
    "```\n",
    "- 아이템1\n",
    "- 아이템2\n",
    "    - 아이템22\n",
    "\n",
    "+ 아이템1\n",
    "+ 아이템2\n",
    "    - 아이템3\n",
    "    - 아이템4\n",
    "\n",
    "- 아이템1\n",
    "    - 아이템 중에 **중요**한 것으..\n",
    "```\n",
    "\n",
    "* 아이템\n",
    "- 아이템\n",
    "* 아이템"
   ]
  },
  {
   "cell_type": "markdown",
   "id": "3285930b-89cd-45f4-8300-ec278a7c3725",
   "metadata": {},
   "source": [
    "마크다운 순서있는 리스트\n",
    "\n",
    "```\n",
    "1. 하나\n",
    "2. 둘\n",
    "3. 셋\n",
    "\n",
    "문장을 써주시거나.\n",
    "\n",
    "1. 하나\n",
    "1. 둘\n",
    "1. 셋\n",
    "    1. 들여쓰기\n",
    "    1. 들여쓰기\n",
    "    1. 들여쓰기\n",
    "        - 순서없는\n",
    "        - 순서없는\n",
    "        \n",
    "```\n"
   ]
  },
  {
   "cell_type": "code",
   "execution_count": null,
   "id": "f38638f7-ff56-4e93-a2dd-097f46a7a1cf",
   "metadata": {},
   "outputs": [],
   "source": []
  },
  {
   "cell_type": "markdown",
   "id": "53d30e69-3544-4271-a395-244b084a4060",
   "metadata": {},
   "source": [
    "## Foot notes\n",
    "\n",
    "```\n",
    "Here is a simple footnote[^1].\n",
    "\n",
    "A footnote can also have multiple lines[^2].  \n",
    "\n",
    "You can also use words, to fit your writing style more closely[^note].\n",
    "\n",
    "[^1]: My reference.\n",
    "[^2]: Every new line should be prefixed with 2 spaces.  \n",
    "  This allows you to have a footnote with multiple lines.\n",
    "[^note]:\n",
    "    Named footnotes will still render with numbers instead of the text but allow easier identification and linking.  \n",
    "    This footnote als\n",
    "```"
   ]
  },
  {
   "cell_type": "markdown",
   "id": "08cd09ff-c7b6-448e-aab6-f63bc0e904ca",
   "metadata": {},
   "source": [
    "Here is a simple footnote[^1].\n",
    "\n",
    "A footnote can also have multiple lines[^2].  \n",
    "\n",
    "---\n",
    "\n",
    "You can also use words, to fit your writing style more closely[^note].\n",
    "\n",
    "[^1]: My reference.\n",
    "[^2]: Every new line should be prefixed with 2 spaces.  \n",
    "  This allows you to have a footnote with multiple lines.\n",
    "[^note]:\n",
    "    Named footnotes will still render with numbers instead of the text but allow easier identification and linking.  \n",
    "    This footnote als"
   ]
  },
  {
   "cell_type": "code",
   "execution_count": null,
   "id": "ce582051-9e79-41c3-ae4c-be0d79951794",
   "metadata": {},
   "outputs": [],
   "source": []
  },
  {
   "cell_type": "markdown",
   "id": "8688c1fc-7197-4d61-a2cf-a512b38610c3",
   "metadata": {},
   "source": [
    "## Task lists\n",
    "\n",
    "```\n",
    "- [x] @mentions, #refs, [links](), **formatting**, and <del>tags</del> supported\n",
    "- [x] list syntax required (any unordered or ordered list supported)\n",
    "- [x] this is a complete item\n",
    "- [ ] this is an incomplete item\n",
    "\n",
    "```"
   ]
  },
  {
   "cell_type": "markdown",
   "id": "03766371-6205-4df6-ba59-34868ec96d3c",
   "metadata": {},
   "source": [
    "- [x] @mentions, #refs, [links](), **formatting**, and <del>tags</del> supported\n",
    "- [x] list syntax required (any unordered or ordered list supported)\n",
    "- [x] this is a complete item\n",
    "- [ ] this is an incomplete item"
   ]
  },
  {
   "cell_type": "markdown",
   "id": "715a7226-a6ae-42ba-90e0-478f2daa8a22",
   "metadata": {
    "slideshow": {
     "slide_type": "slide"
    }
   },
   "source": [
    "## LaTex\n",
    "\n",
    "* Mathjax를 포함하고 있다. LaTeX를 그대로 사용\n",
    "* [위키백과:TeX 문법](https://ko.wikipedia.org/wiki/%EC%9C%84%ED%82%A4%EB%B0%B1%EA%B3%BC:TeX_%EB%AC%B8%EB%B2%95)\n",
    "* 온라인 라텍스 편집기:  https://www.codecogs.com/latex/eqneditor.php\n",
    "\n",
    "\n",
    "```\n",
    "$$c = \\sqrt{a^2 + b^2}$$\n",
    "```\n",
    "\n",
    "$$c = \\sqrt{a^2 + b^2}$$\n",
    "\n",
    "```\n",
    "$$N(\\mu ,\\sigma )$$\n",
    "```\n",
    "\n",
    "$$N(\\mu ,\\sigma )$$"
   ]
  },
  {
   "cell_type": "markdown",
   "id": "9a387ce5-3e41-4123-90a7-7dd3d87d8df6",
   "metadata": {},
   "source": [
    "제곱표현"
   ]
  },
  {
   "cell_type": "markdown",
   "id": "0ec11ff5-43b2-4f4c-8976-0a92d070a52a",
   "metadata": {},
   "source": [
    "$$\n",
    "y = \\sqrt { a^{2} + b^2}\\\\\n",
    "=\\sqrt{a^{10-x} + b^{a*2}}\\\\\n",
    "$$"
   ]
  },
  {
   "cell_type": "markdown",
   "id": "2d255580-2731-44ce-ab9f-485977bcf8a5",
   "metadata": {},
   "source": [
    "$$\n",
    "\\sum_{a=0}^{n} a^2\n",
    "$$"
   ]
  },
  {
   "cell_type": "markdown",
   "id": "aba73383-85fb-4077-869b-807869a1affc",
   "metadata": {},
   "source": [
    "$$\n",
    "\\text{문자를 넣을 수 있어요.}   \\int_{-N}^{n} e^x\\, dx\n",
    "$$"
   ]
  },
  {
   "cell_type": "markdown",
   "id": "7b1f0edd-37d5-4367-9661-2970d1568140",
   "metadata": {},
   "source": [
    "$$\n",
    "\\sum_{i=1}^{N} x_i\n",
    "$$"
   ]
  }
 ],
 "metadata": {
  "kernelspec": {
   "display_name": "Python 3 (ipykernel)",
   "language": "python",
   "name": "python3"
  },
  "language_info": {
   "codemirror_mode": {
    "name": "ipython",
    "version": 3
   },
   "file_extension": ".py",
   "mimetype": "text/x-python",
   "name": "python",
   "nbconvert_exporter": "python",
   "pygments_lexer": "ipython3",
   "version": "3.10.9"
  }
 },
 "nbformat": 4,
 "nbformat_minor": 5
}
